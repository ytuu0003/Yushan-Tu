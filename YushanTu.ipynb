{
  "nbformat": 4,
  "nbformat_minor": 0,
  "metadata": {
    "colab": {
      "name": "YushanTu.ipynb",
      "provenance": [],
      "collapsed_sections": []
    },
    "kernelspec": {
      "name": "python3",
      "display_name": "Python 3"
    }
  },
  "cells": [
    {
      "cell_type": "markdown",
      "metadata": {
        "id": "hpXipZeJOg8v",
        "colab_type": "text"
      },
      "source": [
        "findPairs() is a method to read a list of integers from user input, find all pairs of numbers in the list whose product is even and whose sum is odd and print out a formatted list of the pairs."
      ]
    },
    {
      "cell_type": "code",
      "metadata": {
        "id": "6tNMBJbO4LvI",
        "colab_type": "code",
        "colab": {}
      },
      "source": [
        "def findPairs(alist):\n",
        "    result = []\n",
        "    for i in range(len(alist) - 1):\n",
        "        for j in range((i+1),len(alist), 1):\n",
        "            if (alist[i] * alist[j]) % 2 == 0 and (alist[i] + alist[j]) % 2 == 1:\n",
        "                result.append([alist[i],alist[j]])\n",
        "    return result\n",
        "        "
      ],
      "execution_count": 0,
      "outputs": []
    },
    {
      "cell_type": "markdown",
      "metadata": {
        "id": "5-v6SGJ4OxKu",
        "colab_type": "text"
      },
      "source": [
        "Below is used to test findPairs() method"
      ]
    },
    {
      "cell_type": "code",
      "metadata": {
        "id": "vVVSIbdXHtkp",
        "colab_type": "code",
        "colab": {
          "base_uri": "https://localhost:8080/",
          "height": 35
        },
        "outputId": "e6aff6ae-7887-43de-8878-ccf8f9fd7276"
      },
      "source": [
        "alist = [1,2,3,4]\n",
        "print(findPairs(alist))"
      ],
      "execution_count": 25,
      "outputs": [
        {
          "output_type": "stream",
          "text": [
            "[[1, 2], [1, 4], [2, 3], [3, 4]]\n"
          ],
          "name": "stdout"
        }
      ]
    }
  ]
}